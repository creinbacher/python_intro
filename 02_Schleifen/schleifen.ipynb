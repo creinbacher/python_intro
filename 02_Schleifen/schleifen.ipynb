{
 "metadata": {
  "language_info": {
   "codemirror_mode": {
    "name": "ipython",
    "version": 3
   },
   "file_extension": ".py",
   "mimetype": "text/x-python",
   "name": "python",
   "nbconvert_exporter": "python",
   "pygments_lexer": "ipython3",
   "version": "3.8.5-final"
  },
  "orig_nbformat": 2,
  "kernelspec": {
   "name": "python3",
   "display_name": "Python 3",
   "language": "python"
  }
 },
 "nbformat": 4,
 "nbformat_minor": 2,
 "cells": [
  {
   "cell_type": "code",
   "execution_count": 1,
   "metadata": {},
   "outputs": [
    {
     "output_type": "stream",
     "name": "stdout",
     "text": [
      "Versuch Nummer:  1\n",
      "Knapp daneben\n",
      "Versuch Nummer:  2\n",
      "Du hast verloren!\n",
      "Versuch Nummer:  3\n",
      "Du hast gewonnen!\n"
     ]
    }
   ],
   "source": [
    "# start bei 0, bis exclusive 3, interval 1\n",
    "# range(3)  entspricht range (0,3,1)\n",
    "for run_index in range(0, 3, 1):\n",
    "    print(\"Versuch Nummer: \", run_index+1)\n",
    "\n",
    "    zahl_input = int(input(\"Gib eine Zahl von 1-10 ein:\"))\n",
    "\n",
    "    if zahl_input == 4:\n",
    "        print(\"Du hast gewonnen!\")\n",
    "    elif zahl_input == 3 or zahl_input == 5:\n",
    "        print(\"Knapp daneben\")\n",
    "    else:\n",
    "        print(\"Du hast verloren!\")"
   ]
  },
  {
   "cell_type": "code",
   "execution_count": 3,
   "metadata": {},
   "outputs": [
    {
     "output_type": "stream",
     "name": "stdout",
     "text": [
      "i:  0\ni:  1\ni:  2\n"
     ]
    }
   ],
   "source": [
    "for i in range(3):\n",
    "    print(\"i: \", i)"
   ]
  },
  {
   "cell_type": "code",
   "execution_count": 5,
   "metadata": {},
   "outputs": [
    {
     "output_type": "stream",
     "name": "stdout",
     "text": [
      "i:  3\ni:  5\ni:  7\ni:  9\n"
     ]
    }
   ],
   "source": [
    "for i in range(3,11,2):\n",
    "    print(\"i: \", i)"
   ]
  },
  {
   "cell_type": "code",
   "execution_count": 7,
   "metadata": {},
   "outputs": [
    {
     "output_type": "stream",
     "name": "stdout",
     "text": [
      "Du hast verloren!\n",
      "Knapp daneben\n",
      "Du hast gewonnen!\n",
      "Ende!\n"
     ]
    }
   ],
   "source": [
    "gewonnen = False\n",
    "\n",
    "while(gewonnen == False):\n",
    "    zahl_input = int(input(\"Gib eine Zahl von 1-10 ein:\"))\n",
    "\n",
    "    if zahl_input == 4:\n",
    "        print(\"Du hast gewonnen!\")\n",
    "        gewonnen = True\n",
    "    elif zahl_input == 3 or zahl_input == 5:\n",
    "        print(\"Knapp daneben\")\n",
    "    else:\n",
    "        print(\"Du hast verloren!\")\n",
    "\n",
    "print(\"Ende!\")"
   ]
  }
 ]
}