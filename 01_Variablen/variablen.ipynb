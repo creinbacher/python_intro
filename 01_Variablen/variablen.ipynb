{
 "metadata": {
  "language_info": {
   "codemirror_mode": {
    "name": "ipython",
    "version": 3
   },
   "file_extension": ".py",
   "mimetype": "text/x-python",
   "name": "python",
   "nbconvert_exporter": "python",
   "pygments_lexer": "ipython3",
   "version": "3.8.5-final"
  },
  "orig_nbformat": 2,
  "kernelspec": {
   "name": "python3",
   "display_name": "Python 3",
   "language": "python"
  }
 },
 "nbformat": 4,
 "nbformat_minor": 2,
 "cells": [
  {
   "cell_type": "code",
   "execution_count": 12,
   "metadata": {},
   "outputs": [
    {
     "output_type": "stream",
     "name": "stdout",
     "text": [
      "1\n<class 'int'>\n1.0\n<class 'float'>\nChris\n<class 'str'>\nTrue\n<class 'bool'>\ntest\n<class 'str'>\n"
     ]
    }
   ],
   "source": [
    "v1 = 1          #integer\n",
    "v2 = 1.0        #float\n",
    "v3 = \"Chris\"    #string\n",
    "v4 = True       #bool\n",
    "\n",
    "print(v1)\n",
    "print(type(v1))\n",
    "print(v2)\n",
    "print(type(v2))\n",
    "print(v3)\n",
    "print(type(v3))\n",
    "print(v4)\n",
    "print(type(v4))\n",
    "\n",
    "v1 = \"test\"\n",
    "print(v1)\n",
    "print(type(v1))"
   ]
  },
  {
   "cell_type": "code",
   "execution_count": 21,
   "metadata": {},
   "outputs": [
    {
     "output_type": "stream",
     "name": "stdout",
     "text": [
      "Knapp daneben\n"
     ]
    }
   ],
   "source": [
    "zahl_input = int(input(\"Gib eine Zahl von 1-10 ein:\"))\n",
    "if zahl_input == 4:\n",
    "    print(\"Du hast gewonnen!\")\n",
    "elif zahl_input == 3 or zahl_input == 5:\n",
    "    print(\"Knapp daneben\")\n",
    "else:\n",
    "    print(\"Du hast verloren!\")"
   ]
  }
 ]
}