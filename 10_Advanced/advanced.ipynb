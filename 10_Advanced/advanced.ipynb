{
 "metadata": {
  "language_info": {
   "codemirror_mode": {
    "name": "ipython",
    "version": 3
   },
   "file_extension": ".py",
   "mimetype": "text/x-python",
   "name": "python",
   "nbconvert_exporter": "python",
   "pygments_lexer": "ipython3",
   "version": "3.8.5-final"
  },
  "orig_nbformat": 2,
  "kernelspec": {
   "name": "python3",
   "display_name": "Python 3",
   "language": "python"
  }
 },
 "nbformat": 4,
 "nbformat_minor": 2,
 "cells": [
  {
   "cell_type": "code",
   "execution_count": 4,
   "metadata": {},
   "outputs": [
    {
     "output_type": "stream",
     "name": "stdout",
     "text": [
      "My name is: Herbert and I am 36 years old\nMy name is: Herbert and I am 36 years old\nMy name is: Herbert and I am 36 years old\n"
     ]
    }
   ],
   "source": [
    "#f-Strings\n",
    "myAge = 36\n",
    "myName = \"Herbert\"\n",
    "\n",
    "# alte schreibweise, sollte nicht mehr verwendet werden\n",
    "message = \"My name is: %s and I am %i years old\" % (myName, myAge)\n",
    "print(message)\n",
    "\n",
    "message2 = \"My name is: {} and I am {} years old\".format(myName, myAge)\n",
    "print(message2)\n",
    "\n",
    "message3 = f\"My name is: {myName} and I am {myAge} years old\"\n",
    "print(message3)"
   ]
  },
  {
   "cell_type": "code",
   "execution_count": 8,
   "metadata": {},
   "outputs": [],
   "source": [
    "#type annotation\n",
    "# nur zur dokumentation, erzwingt keinen String\n",
    "def print_message(message: str):\n",
    "    print(message)"
   ]
  },
  {
   "cell_type": "code",
   "execution_count": 9,
   "metadata": {},
   "outputs": [
    {
     "output_type": "stream",
     "name": "stdout",
     "text": [
      "2\nTrue\n3.0\n"
     ]
    }
   ],
   "source": [
    "print_message(2)\n",
    "print_message(True)\n",
    "print_message(3.0)"
   ]
  },
  {
   "cell_type": "code",
   "execution_count": null,
   "metadata": {},
   "outputs": [],
   "source": []
  }
 ]
}