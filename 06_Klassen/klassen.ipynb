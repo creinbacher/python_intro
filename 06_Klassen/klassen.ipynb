{
 "metadata": {
  "language_info": {
   "codemirror_mode": {
    "name": "ipython",
    "version": 3
   },
   "file_extension": ".py",
   "mimetype": "text/x-python",
   "name": "python",
   "nbconvert_exporter": "python",
   "pygments_lexer": "ipython3",
   "version": "3.8.5-final"
  },
  "orig_nbformat": 2,
  "kernelspec": {
   "name": "python3",
   "display_name": "Python 3",
   "language": "python"
  }
 },
 "nbformat": 4,
 "nbformat_minor": 2,
 "cells": [
  {
   "cell_type": "code",
   "execution_count": 6,
   "metadata": {},
   "outputs": [],
   "source": [
    "class ListStatistics:\n",
    "    def __init__(self, dataList):             # constructor\n",
    "        self.dataList = dataList\n",
    "        print(\"Object created!\")\n",
    "\n",
    "    def list_max(self):\n",
    "        highest = self.dataList[0]\n",
    "\n",
    "        for i in range(1,len(self.dataList)):\n",
    "            if self.dataList[i] > highest:\n",
    "                highest = self.dataList[i]\n",
    "\n",
    "        return highest \n",
    "        \n",
    "    def list_min(self):\n",
    "        highest = self.dataList[0]\n",
    "\n",
    "        for i in range(1,len(self.dataList)):\n",
    "            if self.dataList[i] < highest:\n",
    "                highest = self.dataList[i]\n",
    "\n",
    "        return highest    "
   ]
  },
  {
   "cell_type": "code",
   "execution_count": 8,
   "metadata": {},
   "outputs": [
    {
     "output_type": "stream",
     "name": "stdout",
     "text": [
      "Object created!\n82\n-2\n"
     ]
    }
   ],
   "source": [
    "myList = [2,41,-2,82,18]\n",
    "ls = ListStatistics(myList)\n",
    "print(ls.list_max())\n",
    "print(ls.list_min())\n"
   ]
  },
  {
   "cell_type": "code",
   "execution_count": null,
   "metadata": {},
   "outputs": [],
   "source": []
  }
 ]
}