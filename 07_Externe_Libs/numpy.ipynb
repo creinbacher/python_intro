{
 "metadata": {
  "language_info": {
   "codemirror_mode": {
    "name": "ipython",
    "version": 3
   },
   "file_extension": ".py",
   "mimetype": "text/x-python",
   "name": "python",
   "nbconvert_exporter": "python",
   "pygments_lexer": "ipython3",
   "version": "3.8.5-final"
  },
  "orig_nbformat": 2,
  "kernelspec": {
   "name": "python3",
   "display_name": "Python 3",
   "language": "python"
  }
 },
 "nbformat": 4,
 "nbformat_minor": 2,
 "cells": [
  {
   "cell_type": "code",
   "execution_count": 3,
   "metadata": {},
   "outputs": [
    {
     "output_type": "stream",
     "name": "stdout",
     "text": [
      "[1. 2. 3.]\n3\n(3,)\n"
     ]
    }
   ],
   "source": [
    "import numpy as np\n",
    "\n",
    "myArray = np.array([1.0, 2.0, 3.0])\n",
    "print(myArray)\n",
    "print(len(myArray))\n",
    "print(myArray.shape)\n"
   ]
  },
  {
   "cell_type": "code",
   "execution_count": 6,
   "metadata": {},
   "outputs": [
    {
     "output_type": "stream",
     "name": "stdout",
     "text": [
      "(4,)\n(1, 4)\n[[1 2 3 4]]\n(4, 1)\n[[1]\n [2]\n [3]\n [4]]\n(2, 2)\n[[1 2]\n [3 4]]\n"
     ]
    }
   ],
   "source": [
    "myArray = np.array([1,2,3,4])\n",
    "print(myArray.shape)\n",
    "\n",
    "myArray = np.reshape(myArray, (1,4))\n",
    "print(myArray.shape)\n",
    "print(myArray)\n",
    "\n",
    "myArray = np.reshape(myArray, (4,1))\n",
    "print(myArray.shape)\n",
    "print(myArray)\n",
    "\n",
    "myArray = np.reshape(myArray, (2,2))\n",
    "print(myArray.shape)\n",
    "print(myArray)"
   ]
  },
  {
   "cell_type": "code",
   "execution_count": 14,
   "metadata": {},
   "outputs": [
    {
     "output_type": "stream",
     "name": "stdout",
     "text": [
      "[[0. 0. 0.]\n [0. 0. 0.]\n [0. 0. 0.]]\n[[1. 1. 1.]\n [1. 1. 1.]\n [1. 1. 1.]]\n[[0.125 0.125 0.125 0.125 0.125]\n [0.125 0.125 0.125 0.125 0.125]\n [0.125 0.125 0.125 0.125 0.125]\n [0.125 0.125 0.125 0.125 0.125]\n [0.125 0.125 0.125 0.125 0.125]]\n"
     ]
    }
   ],
   "source": [
    "myZero = np.zeros(shape=(3,3))\n",
    "print(myZero)\n",
    "\n",
    "myOne = np.ones(shape=(3,3))\n",
    "print(myOne)\n",
    "\n",
    "myArray = np.full(shape=(5,5), fill_value=0.125)\n",
    "print(myArray)"
   ]
  },
  {
   "cell_type": "code",
   "execution_count": 17,
   "metadata": {},
   "outputs": [
    {
     "output_type": "stream",
     "name": "stdout",
     "text": [
      "1\n-1\n2\n0\n[[0. 0. 0.]\n [0. 0. 0.]\n [0. 0. 0.]]\n[[0.375 0.375 0.375]\n [0.375 0.375 0.375]\n [0.375 0.375 0.375]]\n"
     ]
    }
   ],
   "source": [
    "myArray = np.array([-1, 0, 1])\n",
    "\n",
    "print(np.max(myArray))\n",
    "print(np.min(myArray))\n",
    "print(np.argmax(myArray))\n",
    "print(np.argmin(myArray))\n",
    "\n",
    "print(myZero * myOne)\n",
    "\n",
    "myArray = np.full(shape=(3,3), fill_value=0.125)\n",
    "print(np.dot(myOne, myArray))"
   ]
  }
 ]
}