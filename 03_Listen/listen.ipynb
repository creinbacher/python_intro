{
 "metadata": {
  "language_info": {
   "codemirror_mode": {
    "name": "ipython",
    "version": 3
   },
   "file_extension": ".py",
   "mimetype": "text/x-python",
   "name": "python",
   "nbconvert_exporter": "python",
   "pygments_lexer": "ipython3",
   "version": "3.8.5-final"
  },
  "orig_nbformat": 2,
  "kernelspec": {
   "name": "python3",
   "display_name": "Python 3",
   "language": "python"
  }
 },
 "nbformat": 4,
 "nbformat_minor": 2,
 "cells": [
  {
   "cell_type": "code",
   "execution_count": 4,
   "metadata": {},
   "outputs": [
    {
     "output_type": "stream",
     "name": "stdout",
     "text": [
      "[1, 2, 3, 1.5, True, 'Test']\n6\n"
     ]
    }
   ],
   "source": [
    "# liste => dynamisch\n",
    "myList = [1, 2, 3, 1.5, True, \"Test\"]\n",
    "print(myList)\n",
    "print(len(myList))"
   ]
  },
  {
   "cell_type": "code",
   "execution_count": 6,
   "metadata": {},
   "outputs": [
    {
     "output_type": "stream",
     "name": "stdout",
     "text": [
      "[1, 2, 3, 34]\n[1, 2, 3]\n"
     ]
    }
   ],
   "source": [
    "# listenfunktionen\n",
    "myList = [1, 2, 3]\n",
    "\n",
    "myList.append(34)\n",
    "print(myList)\n",
    "\n",
    "myList.pop()\n",
    "print(myList)\n"
   ]
  },
  {
   "cell_type": "code",
   "execution_count": 8,
   "metadata": {},
   "outputs": [
    {
     "output_type": "stream",
     "name": "stdout",
     "text": [
      "10\n42\n"
     ]
    }
   ],
   "source": [
    "# index startet auch hier bei 0\n",
    "#          0   1   2\n",
    "myList = [20, 10, 42]\n",
    "\n",
    "print(myList[1])\n",
    "print(myList[-1]) # letzes element"
   ]
  },
  {
   "cell_type": "code",
   "execution_count": 11,
   "metadata": {},
   "outputs": [
    {
     "output_type": "stream",
     "name": "stdout",
     "text": [
      "400\n100\n1764\n"
     ]
    }
   ],
   "source": [
    "for val in myList:\n",
    "    print(val**2)   # hoch nehmen mit **"
   ]
  },
  {
   "cell_type": "code",
   "execution_count": 13,
   "metadata": {},
   "outputs": [
    {
     "output_type": "stream",
     "name": "stdout",
     "text": [
      "20\n10\n42\n"
     ]
    }
   ],
   "source": [
    "for i in range(3):\n",
    "    print(myList[i])"
   ]
  },
  {
   "cell_type": "code",
   "execution_count": 14,
   "metadata": {},
   "outputs": [
    {
     "output_type": "stream",
     "name": "stdout",
     "text": [
      "20\n10\n42\n"
     ]
    }
   ],
   "source": [
    "for i in range(len(myList)):\n",
    "    print(myList[i])"
   ]
  }
 ]
}