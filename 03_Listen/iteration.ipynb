{
 "metadata": {
  "language_info": {
   "codemirror_mode": {
    "name": "ipython",
    "version": 3
   },
   "file_extension": ".py",
   "mimetype": "text/x-python",
   "name": "python",
   "nbconvert_exporter": "python",
   "pygments_lexer": "ipython3",
   "version": "3.8.5-final"
  },
  "orig_nbformat": 2,
  "kernelspec": {
   "name": "python3",
   "display_name": "Python 3",
   "language": "python"
  }
 },
 "nbformat": 4,
 "nbformat_minor": 2,
 "cells": [
  {
   "cell_type": "code",
   "execution_count": 5,
   "metadata": {},
   "outputs": [],
   "source": [
    "myList1 = [1, 25, 3]\n",
    "myList2 = [\"a\", \"b\", \"c\"]"
   ]
  },
  {
   "cell_type": "code",
   "execution_count": 6,
   "metadata": {},
   "outputs": [
    {
     "output_type": "stream",
     "name": "stdout",
     "text": [
      "1\n25\n3\n"
     ]
    }
   ],
   "source": [
    "for value in myList1: \n",
    "    print(value)"
   ]
  },
  {
   "cell_type": "code",
   "execution_count": 7,
   "metadata": {},
   "outputs": [
    {
     "output_type": "stream",
     "name": "stdout",
     "text": [
      "Wert at index:  0  is  1\nWert at index:  1  is  25\nWert at index:  2  is  3\n"
     ]
    }
   ],
   "source": [
    "for index in range(len(myList1)):\n",
    "    print(\"Wert at index: \", index, \" is \", myList1[index])"
   ]
  },
  {
   "cell_type": "code",
   "execution_count": 8,
   "metadata": {},
   "outputs": [
    {
     "output_type": "stream",
     "name": "stdout",
     "text": [
      "Wert at index:  0  is  1\nWert at index:  1  is  25\nWert at index:  2  is  3\n"
     ]
    }
   ],
   "source": [
    "# enumerate\n",
    "for index, value in enumerate(myList1):\n",
    "    print(\"Wert at index: \", index, \" is \", value)"
   ]
  },
  {
   "cell_type": "code",
   "execution_count": 13,
   "metadata": {},
   "outputs": [
    {
     "output_type": "stream",
     "name": "stdout",
     "text": [
      "1 a\n25 b\n3 c\n1 a\n25 b\n3 c\n1 a\n25 b\n3 c\n"
     ]
    }
   ],
   "source": [
    "# zip\n",
    "for index in range (len(myList1)):\n",
    "    print(myList1[index], myList2[index])   # eventuell index out of bounds\n",
    "\n",
    "for value1, value2 in zip(myList1, myList2):\n",
    "    print(value1, value2)\n",
    "\n",
    "myList1.append(52)\n",
    "for value1, value2 in zip(myList1, myList2):    # zip hoert auf sobald eine liste am ende ist\n",
    "    print(value1, value2)\n"
   ]
  }
 ]
}