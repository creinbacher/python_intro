{
 "metadata": {
  "language_info": {
   "codemirror_mode": {
    "name": "ipython",
    "version": 3
   },
   "file_extension": ".py",
   "mimetype": "text/x-python",
   "name": "python",
   "nbconvert_exporter": "python",
   "pygments_lexer": "ipython3",
   "version": "3.8.5-final"
  },
  "orig_nbformat": 2,
  "kernelspec": {
   "name": "python3",
   "display_name": "Python 3",
   "language": "python"
  }
 },
 "nbformat": 4,
 "nbformat_minor": 2,
 "cells": [
  {
   "cell_type": "code",
   "execution_count": 9,
   "metadata": {},
   "outputs": [],
   "source": [
    "# Funktionen\n",
    "def list_max(myList):\n",
    "    highest = myList[0]\n",
    "\n",
    "    for i in range(1,len(myList)):\n",
    "        if myList[i] > highest:\n",
    "            print(\"last max: \", highest)\n",
    "            highest = myList[i]\n",
    "            print(\"new max: \", highest)\n",
    "\n",
    "    return highest            "
   ]
  },
  {
   "cell_type": "code",
   "execution_count": 11,
   "metadata": {},
   "outputs": [
    {
     "output_type": "stream",
     "name": "stdout",
     "text": [
      "last max:  1\nnew max:  42\nlast max:  14\nnew max:  42\nlast max:  42\nnew max:  104\nlast max:  14\nnew max:  42\nlast max:  42\nnew max:  104\nlast max:  104\nnew max:  834\n"
     ]
    },
    {
     "output_type": "execute_result",
     "data": {
      "text/plain": [
       "834"
      ]
     },
     "metadata": {},
     "execution_count": 11
    }
   ],
   "source": [
    "liste_a = [1, 42,10, -42, 8]\n",
    "\n",
    "list_max(liste_a)\n",
    "list_max([14, 42,104, -42, 83])\n",
    "list_max([14, 42,104, -42, 834])"
   ]
  },
  {
   "cell_type": "code",
   "execution_count": null,
   "metadata": {},
   "outputs": [],
   "source": []
  }
 ]
}