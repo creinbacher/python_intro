{
 "metadata": {
  "language_info": {
   "codemirror_mode": {
    "name": "ipython",
    "version": 3
   },
   "file_extension": ".py",
   "mimetype": "text/x-python",
   "name": "python",
   "nbconvert_exporter": "python",
   "pygments_lexer": "ipython3",
   "version": "3.8.5-final"
  },
  "orig_nbformat": 2,
  "kernelspec": {
   "name": "python3",
   "display_name": "Python 3",
   "language": "python"
  }
 },
 "nbformat": 4,
 "nbformat_minor": 2,
 "cells": [
  {
   "cell_type": "code",
   "execution_count": 2,
   "metadata": {},
   "outputs": [
    {
     "output_type": "stream",
     "name": "stdout",
     "text": [
      "{'Herbert': [32, 'Arbeitslos', 'Wien'], 'Franzi': [34, 'Tischler', 'Graz']}\n2\n"
     ]
    }
   ],
   "source": [
    "# dict == map\n",
    "\n",
    "myDict = {\"Herbert\": [32, \"Arbeitslos\", \"Wien\"], \n",
    "           \"Franzi\": [34, \"Tischler\", \"Graz\"]}\n",
    "print(myDict)\n",
    "print(len(myDict))\n",
    "\n"
   ]
  },
  {
   "cell_type": "code",
   "execution_count": 12,
   "metadata": {},
   "outputs": [
    {
     "output_type": "stream",
     "name": "stdout",
     "text": [
      "{'Herbert': [32, 'Arbeitslos', 'Wien'], 'Franzi': [34, 'Tischler', 'Graz'], 1: 12}\n3\n"
     ]
    }
   ],
   "source": [
    "myDict = {\"Herbert\": [32, \"Arbeitslos\", \"Wien\"], \n",
    "           \"Franzi\": [34, \"Tischler\", \"Graz\"],\n",
    "           1: 12}\n",
    "print(myDict)\n",
    "print(len(myDict))           "
   ]
  },
  {
   "cell_type": "code",
   "execution_count": 13,
   "metadata": {},
   "outputs": [
    {
     "output_type": "stream",
     "name": "stdout",
     "text": [
      "{'Herbert': [32, 'Arbeitslos', 'Wien'], 'Franzi': [34, 'Tischler', 'Graz']}\n{'Franzi': [34, 'Tischler', 'Graz']}\n{'Franzi': [34, 'Tischler', 'Graz'], 'Herbert': [32, 'Arbeitslos', 'Wien']}\n"
     ]
    }
   ],
   "source": [
    "myDict.pop(1)\n",
    "print(myDict)\n",
    "\n",
    "myDict.pop(\"Herbert\")\n",
    "print(myDict)\n",
    "\n",
    "myDict[\"Herbert\"] = [32, \"Arbeitslos\", \"Wien\"]\n",
    "print(myDict)"
   ]
  },
  {
   "cell_type": "code",
   "execution_count": 17,
   "metadata": {},
   "outputs": [
    {
     "output_type": "stream",
     "name": "stdout",
     "text": [
      "Franzi [34, 'Tischler', 'Graz']\nHerbert [32, 'Arbeitslos', 'Wien']\nFranzi [34, 'Tischler', 'Graz']\nHerbert [32, 'Arbeitslos', 'Wien']\nFranzi\nHerbert\n[34, 'Tischler', 'Graz']\n[32, 'Arbeitslos', 'Wien']\n"
     ]
    }
   ],
   "source": [
    "for key in myDict:\n",
    "    print(key, myDict[key])\n",
    "\n",
    "for key, value in myDict.items():\n",
    "    print(key, value)\n",
    "\n",
    "for key in myDict.keys():\n",
    "    print(key)\n",
    "\n",
    "for value in myDict.values():\n",
    "    print(value)    "
   ]
  }
 ]
}